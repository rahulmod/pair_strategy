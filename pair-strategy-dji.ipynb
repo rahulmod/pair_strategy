{
 "cells": [
  {
   "cell_type": "markdown",
   "metadata": {},
   "source": [
    "Pair strategy on DJI top 30, based on cumulative sum on percent change"
   ]
  },
  {
   "cell_type": "code",
   "execution_count": 1,
   "metadata": {},
   "outputs": [],
   "source": [
    "import numpy as np\n",
    "import pandas as pd\n",
    "import matplotlib.pyplot as plt\n",
    "import requests"
   ]
  },
  {
   "cell_type": "code",
   "execution_count": 2,
   "metadata": {},
   "outputs": [],
   "source": [
    "# DJI index list - top 30\n",
    "tkrs = ['AAPL', 'AMGN', 'AXP', 'BA', 'CAT', 'CRM', 'CSCO', 'CVX', 'DIS', 'DOW', 'GS', 'HD', 'HON', 'IBM', 'INTC', 'JNJ', 'JPM', 'KO', 'MCD', 'MMM', 'MRK', 'MSFT', 'NKE', 'PG', 'TRV', 'UNH', 'V', 'VZ', 'WBA', 'WMT', '^DJI']"
   ]
  },
  {
   "cell_type": "code",
   "execution_count": 5,
   "metadata": {},
   "outputs": [
    {
     "data": {
      "text/html": [
       "<div>\n",
       "<style scoped>\n",
       "    .dataframe tbody tr th:only-of-type {\n",
       "        vertical-align: middle;\n",
       "    }\n",
       "\n",
       "    .dataframe tbody tr th {\n",
       "        vertical-align: top;\n",
       "    }\n",
       "\n",
       "    .dataframe thead th {\n",
       "        text-align: right;\n",
       "    }\n",
       "</style>\n",
       "<table border=\"1\" class=\"dataframe\">\n",
       "  <thead>\n",
       "    <tr style=\"text-align: right;\">\n",
       "      <th></th>\n",
       "      <th>Date</th>\n",
       "      <th>Adj Close</th>\n",
       "      <th>Symbol</th>\n",
       "    </tr>\n",
       "  </thead>\n",
       "  <tbody>\n",
       "    <tr>\n",
       "      <th>0</th>\n",
       "      <td>2020-09-01</td>\n",
       "      <td>133.95</td>\n",
       "      <td>AAPL</td>\n",
       "    </tr>\n",
       "    <tr>\n",
       "      <th>1</th>\n",
       "      <td>2020-09-02</td>\n",
       "      <td>131.17</td>\n",
       "      <td>AAPL</td>\n",
       "    </tr>\n",
       "    <tr>\n",
       "      <th>2</th>\n",
       "      <td>2020-09-03</td>\n",
       "      <td>120.67</td>\n",
       "      <td>AAPL</td>\n",
       "    </tr>\n",
       "    <tr>\n",
       "      <th>3</th>\n",
       "      <td>2020-09-04</td>\n",
       "      <td>120.75</td>\n",
       "      <td>AAPL</td>\n",
       "    </tr>\n",
       "    <tr>\n",
       "      <th>4</th>\n",
       "      <td>2020-09-08</td>\n",
       "      <td>112.63</td>\n",
       "      <td>AAPL</td>\n",
       "    </tr>\n",
       "  </tbody>\n",
       "</table>\n",
       "</div>"
      ],
      "text/plain": [
       "         Date  Adj Close Symbol\n",
       "0  2020-09-01     133.95   AAPL\n",
       "1  2020-09-02     131.17   AAPL\n",
       "2  2020-09-03     120.67   AAPL\n",
       "3  2020-09-04     120.75   AAPL\n",
       "4  2020-09-08     112.63   AAPL"
      ]
     },
     "execution_count": 5,
     "metadata": {},
     "output_type": "execute_result"
    }
   ],
   "source": [
    "# read each stock data file containing 3 months of data\n",
    "stock_data_list = []\n",
    "for stock in tkrs:\n",
    "    tmp = pd.read_csv(f'csv/{stock}.csv')\n",
    "    stock_data_list.append(tmp)\n",
    "    \n",
    "stock_data = pd.concat(stock_data_list)\n",
    "stock_data.head()"
   ]
  },
  {
   "cell_type": "code",
   "execution_count": 7,
   "metadata": {},
   "outputs": [
    {
     "data": {
      "text/html": [
       "<div>\n",
       "<style scoped>\n",
       "    .dataframe tbody tr th:only-of-type {\n",
       "        vertical-align: middle;\n",
       "    }\n",
       "\n",
       "    .dataframe tbody tr th {\n",
       "        vertical-align: top;\n",
       "    }\n",
       "\n",
       "    .dataframe thead th {\n",
       "        text-align: right;\n",
       "    }\n",
       "</style>\n",
       "<table border=\"1\" class=\"dataframe\">\n",
       "  <thead>\n",
       "    <tr style=\"text-align: right;\">\n",
       "      <th>Symbol</th>\n",
       "      <th>AAPL</th>\n",
       "      <th>AMGN</th>\n",
       "      <th>AXP</th>\n",
       "      <th>BA</th>\n",
       "      <th>CAT</th>\n",
       "      <th>CRM</th>\n",
       "      <th>CSCO</th>\n",
       "      <th>CVX</th>\n",
       "      <th>DIS</th>\n",
       "      <th>DOW</th>\n",
       "      <th>...</th>\n",
       "      <th>MSFT</th>\n",
       "      <th>NKE</th>\n",
       "      <th>PG</th>\n",
       "      <th>TRV</th>\n",
       "      <th>UNH</th>\n",
       "      <th>V</th>\n",
       "      <th>VZ</th>\n",
       "      <th>WBA</th>\n",
       "      <th>WMT</th>\n",
       "      <th>^DJI</th>\n",
       "    </tr>\n",
       "    <tr>\n",
       "      <th>Date</th>\n",
       "      <th></th>\n",
       "      <th></th>\n",
       "      <th></th>\n",
       "      <th></th>\n",
       "      <th></th>\n",
       "      <th></th>\n",
       "      <th></th>\n",
       "      <th></th>\n",
       "      <th></th>\n",
       "      <th></th>\n",
       "      <th></th>\n",
       "      <th></th>\n",
       "      <th></th>\n",
       "      <th></th>\n",
       "      <th></th>\n",
       "      <th></th>\n",
       "      <th></th>\n",
       "      <th></th>\n",
       "      <th></th>\n",
       "      <th></th>\n",
       "      <th></th>\n",
       "    </tr>\n",
       "  </thead>\n",
       "  <tbody>\n",
       "    <tr>\n",
       "      <th>2020-09-01</th>\n",
       "      <td>133.95</td>\n",
       "      <td>249.17</td>\n",
       "      <td>102.04</td>\n",
       "      <td>172.10</td>\n",
       "      <td>145.16</td>\n",
       "      <td>281.25</td>\n",
       "      <td>41.65</td>\n",
       "      <td>81.88</td>\n",
       "      <td>133.55</td>\n",
       "      <td>46.68</td>\n",
       "      <td>...</td>\n",
       "      <td>226.68</td>\n",
       "      <td>114.84</td>\n",
       "      <td>137.42</td>\n",
       "      <td>113.83</td>\n",
       "      <td>311.55</td>\n",
       "      <td>213.03</td>\n",
       "      <td>58.54</td>\n",
       "      <td>36.33</td>\n",
       "      <td>147.59</td>\n",
       "      <td>28645.66</td>\n",
       "    </tr>\n",
       "    <tr>\n",
       "      <th>2020-09-02</th>\n",
       "      <td>131.17</td>\n",
       "      <td>256.38</td>\n",
       "      <td>103.97</td>\n",
       "      <td>174.78</td>\n",
       "      <td>148.36</td>\n",
       "      <td>276.69</td>\n",
       "      <td>42.03</td>\n",
       "      <td>81.98</td>\n",
       "      <td>135.39</td>\n",
       "      <td>48.61</td>\n",
       "      <td>...</td>\n",
       "      <td>231.05</td>\n",
       "      <td>116.80</td>\n",
       "      <td>139.73</td>\n",
       "      <td>116.60</td>\n",
       "      <td>318.93</td>\n",
       "      <td>216.15</td>\n",
       "      <td>59.89</td>\n",
       "      <td>36.73</td>\n",
       "      <td>147.68</td>\n",
       "      <td>29100.50</td>\n",
       "    </tr>\n",
       "    <tr>\n",
       "      <th>2020-09-03</th>\n",
       "      <td>120.67</td>\n",
       "      <td>246.24</td>\n",
       "      <td>104.03</td>\n",
       "      <td>168.77</td>\n",
       "      <td>145.87</td>\n",
       "      <td>265.01</td>\n",
       "      <td>40.58</td>\n",
       "      <td>81.09</td>\n",
       "      <td>133.24</td>\n",
       "      <td>47.79</td>\n",
       "      <td>...</td>\n",
       "      <td>216.73</td>\n",
       "      <td>112.85</td>\n",
       "      <td>137.50</td>\n",
       "      <td>114.49</td>\n",
       "      <td>314.93</td>\n",
       "      <td>208.65</td>\n",
       "      <td>59.97</td>\n",
       "      <td>36.65</td>\n",
       "      <td>144.54</td>\n",
       "      <td>28292.73</td>\n",
       "    </tr>\n",
       "    <tr>\n",
       "      <th>2020-09-04</th>\n",
       "      <td>120.75</td>\n",
       "      <td>246.72</td>\n",
       "      <td>105.23</td>\n",
       "      <td>171.05</td>\n",
       "      <td>147.28</td>\n",
       "      <td>254.70</td>\n",
       "      <td>40.45</td>\n",
       "      <td>80.74</td>\n",
       "      <td>131.99</td>\n",
       "      <td>48.00</td>\n",
       "      <td>...</td>\n",
       "      <td>213.69</td>\n",
       "      <td>112.40</td>\n",
       "      <td>137.20</td>\n",
       "      <td>115.70</td>\n",
       "      <td>310.72</td>\n",
       "      <td>204.35</td>\n",
       "      <td>59.84</td>\n",
       "      <td>36.46</td>\n",
       "      <td>142.83</td>\n",
       "      <td>28133.31</td>\n",
       "    </tr>\n",
       "    <tr>\n",
       "      <th>2020-09-08</th>\n",
       "      <td>112.63</td>\n",
       "      <td>239.55</td>\n",
       "      <td>103.24</td>\n",
       "      <td>161.08</td>\n",
       "      <td>147.62</td>\n",
       "      <td>241.27</td>\n",
       "      <td>39.63</td>\n",
       "      <td>77.82</td>\n",
       "      <td>134.20</td>\n",
       "      <td>47.34</td>\n",
       "      <td>...</td>\n",
       "      <td>202.13</td>\n",
       "      <td>112.72</td>\n",
       "      <td>135.19</td>\n",
       "      <td>112.89</td>\n",
       "      <td>305.99</td>\n",
       "      <td>199.82</td>\n",
       "      <td>59.33</td>\n",
       "      <td>35.68</td>\n",
       "      <td>138.45</td>\n",
       "      <td>27500.89</td>\n",
       "    </tr>\n",
       "  </tbody>\n",
       "</table>\n",
       "<p>5 rows × 31 columns</p>\n",
       "</div>"
      ],
      "text/plain": [
       "Symbol        AAPL    AMGN     AXP      BA     CAT     CRM   CSCO    CVX  \\\n",
       "Date                                                                       \n",
       "2020-09-01  133.95  249.17  102.04  172.10  145.16  281.25  41.65  81.88   \n",
       "2020-09-02  131.17  256.38  103.97  174.78  148.36  276.69  42.03  81.98   \n",
       "2020-09-03  120.67  246.24  104.03  168.77  145.87  265.01  40.58  81.09   \n",
       "2020-09-04  120.75  246.72  105.23  171.05  147.28  254.70  40.45  80.74   \n",
       "2020-09-08  112.63  239.55  103.24  161.08  147.62  241.27  39.63  77.82   \n",
       "\n",
       "Symbol         DIS    DOW  ...    MSFT     NKE      PG     TRV     UNH  \\\n",
       "Date                       ...                                           \n",
       "2020-09-01  133.55  46.68  ...  226.68  114.84  137.42  113.83  311.55   \n",
       "2020-09-02  135.39  48.61  ...  231.05  116.80  139.73  116.60  318.93   \n",
       "2020-09-03  133.24  47.79  ...  216.73  112.85  137.50  114.49  314.93   \n",
       "2020-09-04  131.99  48.00  ...  213.69  112.40  137.20  115.70  310.72   \n",
       "2020-09-08  134.20  47.34  ...  202.13  112.72  135.19  112.89  305.99   \n",
       "\n",
       "Symbol           V     VZ    WBA     WMT      ^DJI  \n",
       "Date                                                \n",
       "2020-09-01  213.03  58.54  36.33  147.59  28645.66  \n",
       "2020-09-02  216.15  59.89  36.73  147.68  29100.50  \n",
       "2020-09-03  208.65  59.97  36.65  144.54  28292.73  \n",
       "2020-09-04  204.35  59.84  36.46  142.83  28133.31  \n",
       "2020-09-08  199.82  59.33  35.68  138.45  27500.89  \n",
       "\n",
       "[5 rows x 31 columns]"
      ]
     },
     "execution_count": 7,
     "metadata": {},
     "output_type": "execute_result"
    }
   ],
   "source": [
    "# transpose dataframe to have stock symbols appear as columns\n",
    "stock_data = stock_data.pivot('Date','Symbol')\n",
    "stock_data.columns = stock_data.columns.droplevel()\n",
    "\n",
    "stock_data.head()"
   ]
  },
  {
   "cell_type": "code",
   "execution_count": 9,
   "metadata": {},
   "outputs": [
    {
     "data": {
      "text/plain": [
       "{'AAPL': -0.1342464048342903,\n",
       " 'AMGN': -0.143000104175252,\n",
       " 'AXP': 0.14450387907865092,\n",
       " 'BA': 0.20343006612482983,\n",
       " 'CAT': 0.15541870478789732,\n",
       " 'CRM': -0.15599932288912055,\n",
       " 'CSCO': 0.001760472163232385,\n",
       " 'CVX': 0.048175291154541555,\n",
       " 'DIS': 0.07951923635483871,\n",
       " 'DOW': 0.107425881766963,\n",
       " 'GS': 0.08823851658643411,\n",
       " 'HD': -0.05673102953281761,\n",
       " 'HON': 0.17234462477967272,\n",
       " 'IBM': -0.011627455480878623,\n",
       " 'INTC': -0.06788917240007109,\n",
       " 'JNJ': -0.07400471668530095,\n",
       " 'JPM': 0.15218930322316437,\n",
       " 'KO': 0.033198239983012634,\n",
       " 'MCD': -0.007506571283849017,\n",
       " 'MMM': 0.02419733493047771,\n",
       " 'MRK': -0.07570173198076979,\n",
       " 'MSFT': -0.08187573266932224,\n",
       " 'NKE': 0.12989522156701805,\n",
       " 'PG': -0.025135081336096987,\n",
       " 'TRV': 0.10347861936299663,\n",
       " 'UNH': 0.04983203413625026,\n",
       " 'V': -0.041886408254456664,\n",
       " 'VZ': -0.005589483032957365,\n",
       " 'WBA': 0.028991796936264413,\n",
       " 'WMT': -0.0001204260184635153}"
      ]
     },
     "execution_count": 9,
     "metadata": {},
     "output_type": "execute_result"
    }
   ],
   "source": [
    "# calculate cumulative sum in order to get details of each stock relaive to percent changes\n",
    " \n",
    "stock1 = '^DJI'\n",
    "last_distance_from_index = {}\n",
    "temp_series1 = stock_data[stock1].pct_change().cumsum()\n",
    "for stock2 in list(stock_data):\n",
    "    # no need to process itself\n",
    "    if (stock2 != stock1):\n",
    "        temp_series2 = stock_data[stock2].pct_change().cumsum() \n",
    "        # we are subtracting the stock minus the index, if stock is strong compared\n",
    "        # to index, we assume a postive value\n",
    "        diff = list(temp_series2 - temp_series1)\n",
    "        last_distance_from_index[stock2] = diff[-1]\n",
    "last_distance_from_index"
   ]
  },
  {
   "cell_type": "code",
   "execution_count": 10,
   "metadata": {},
   "outputs": [
    {
     "name": "stdout",
     "output_type": "stream",
     "text": [
      "Weakest symbol: CRM\n"
     ]
    }
   ],
   "source": [
    "weakest_symbol = min(last_distance_from_index.items(), key=lambda x: x[1]) \n",
    "print('Weakest symbol: %s' % weakest_symbol[0])"
   ]
  },
  {
   "cell_type": "code",
   "execution_count": 11,
   "metadata": {},
   "outputs": [
    {
     "name": "stdout",
     "output_type": "stream",
     "text": [
      "Strongest symbol: BA\n"
     ]
    }
   ],
   "source": [
    "strongest_symbol = max(last_distance_from_index.items(), key=lambda x: x[1]) \n",
    "print('Strongest symbol: %s' % strongest_symbol[0])"
   ]
  },
  {
   "cell_type": "code",
   "execution_count": 13,
   "metadata": {},
   "outputs": [
    {
     "data": {
      "image/png": "[encoded data removed]",
      "text/plain": [
       "<Figure size 432x288 with 1 Axes>"
      ]
     },
     "metadata": {
      "needs_background": "light"
     },
     "output_type": "display_data"
    }
   ],
   "source": [
    "import matplotlib.ticker as mticker\n",
    "fig, ax = plt.subplots()\n",
    "\n",
    "ax.plot(temp_series2.index, stock_data[weakest_symbol[0]])\n",
    "plt.suptitle('Buying: ' + weakest_symbol[0])\n",
    "\n",
    "# rotate dates \n",
    "myLocator = mticker.MultipleLocator(2)\n",
    "ax.xaxis.set_major_locator(myLocator)\n",
    "fig.autofmt_xdate()\n",
    "\n",
    "# fix label to only show first and last date\n",
    "labels = ['' for item in ax.get_xticklabels()]\n",
    "labels[1] = temp_series2.index[0]\n",
    "\n",
    "# labels[int(len(labels)/2)] = temp_series2.index[int(len(labels)/2)]\n",
    "labels[-2] = temp_series2.index[-1]\n",
    "ax.set_xticklabels(labels)\n",
    "\n",
    "plt.show()"
   ]
  },
  {
   "cell_type": "code",
   "execution_count": 14,
   "metadata": {},
   "outputs": [
    {
     "data": {
      "image/png": "[encoded data removed]",
      "text/plain": [
       "<Figure size 432x288 with 1 Axes>"
      ]
     },
     "metadata": {
      "needs_background": "light"
     },
     "output_type": "display_data"
    }
   ],
   "source": [
    "fig, ax = plt.subplots()\n",
    "\n",
    "ax.plot(temp_series2.index, stock_data[strongest_symbol[0]])\n",
    "plt.suptitle('Selling: ' + strongest_symbol[0])\n",
    "\n",
    "# rotate dates \n",
    "myLocator = mticker.MultipleLocator(2)\n",
    "ax.xaxis.set_major_locator(myLocator)\n",
    "fig.autofmt_xdate()\n",
    "\n",
    "# fix label to only show first and last date\n",
    "labels = ['' for item in ax.get_xticklabels()]\n",
    "labels[1] = temp_series2.index[0]\n",
    "\n",
    "# labels[int(len(labels)/2)] = temp_series2.index[int(len(labels)/2)]\n",
    "labels[-2] = temp_series2.index[-1]\n",
    "ax.set_xticklabels(labels)\n",
    "\n",
    "plt.show()"
   ]
  },
  {
   "cell_type": "markdown",
   "metadata": {},
   "source": [
    "Calculate trade sizes"
   ]
  },
  {
   "cell_type": "code",
   "execution_count": 15,
   "metadata": {},
   "outputs": [
    {
     "name": "stdout",
     "output_type": "stream",
     "text": [
      "Strongest symbol BA, last price: $210.710000\n",
      "Weakest symbol CRM, last price: $245.800000\n"
     ]
    }
   ],
   "source": [
    "trading_budget = 10000\n",
    "\n",
    "# get last trading price for both stocks\n",
    "short_symbol = strongest_symbol[0]\n",
    "short_last_close = stock_data[strongest_symbol[0]][-1] \n",
    "print('Strongest symbol %s, last price: $%f' % (strongest_symbol[0], short_last_close))\n",
    "\n",
    "long_symbol = weakest_symbol[0]\n",
    "long_last_close = stock_data[weakest_symbol[0]][-1] \n",
    "print('Weakest symbol %s, last price: $%f' % (weakest_symbol[0], long_last_close))"
   ]
  },
  {
   "cell_type": "code",
   "execution_count": 16,
   "metadata": {},
   "outputs": [
    {
     "name": "stdout",
     "output_type": "stream",
     "text": [
      "For BA, at $210.710000, you need to short 23 shares\n"
     ]
    }
   ],
   "source": [
    "print('For %s, at $%f, you need to short %i shares' %\n",
    "      (short_symbol, short_last_close, (trading_budget * 0.5) / short_last_close ))"
   ]
  },
  {
   "cell_type": "code",
   "execution_count": 17,
   "metadata": {},
   "outputs": [
    {
     "name": "stdout",
     "output_type": "stream",
     "text": [
      "For CRM, at $245.800000, you need to buy 20 shares\n"
     ]
    }
   ],
   "source": [
    "print('For %s, at $%f, you need to buy %i shares' %\n",
    "      (long_symbol, long_last_close, (trading_budget * 0.5) / long_last_close ))"
   ]
  },
  {
   "cell_type": "markdown",
   "metadata": {},
   "source": [
    "Let's plot the pair trade and index data"
   ]
  },
  {
   "cell_type": "code",
   "execution_count": 18,
   "metadata": {},
   "outputs": [],
   "source": [
    "long_trade_df = stock_data[long_symbol].pct_change().cumsum()\n",
    "short_trade_df = stock_data[short_symbol].pct_change().cumsum()\n",
    "index_df = stock_data['^DJI'].pct_change().cumsum()"
   ]
  },
  {
   "cell_type": "code",
   "execution_count": 21,
   "metadata": {},
   "outputs": [
    {
     "data": {
      "image/png": "[encoded data removed]",
      "text/plain": [
       "<Figure size 432x288 with 1 Axes>"
      ]
     },
     "metadata": {
      "needs_background": "light"
     },
     "output_type": "display_data"
    }
   ],
   "source": [
    "fig, ax = plt.subplots()\n",
    "\n",
    "\n",
    "ax.plot(long_trade_df.index, long_trade_df, label='go long ' + long_symbol)\n",
    "ax.plot(long_trade_df.index, short_trade_df, label='go short ' + short_symbol)\n",
    "ax.plot(long_trade_df.index, index_df, label='index bench ' + tkrs[-1])\n",
    "legend = ax.legend(loc='upper center', shadow=True)\n",
    "\n",
    "plt.suptitle('Above: ' + short_symbol + ', Below: ' + long_symbol + ', Index:' + tkrs[-1])\n",
    "\n",
    "# add zero line \n",
    "ax.axhline(y=0, color='green', linestyle='-')\n",
    "\n",
    "# rotate dates \n",
    "myLocator = mticker.MultipleLocator(2)\n",
    "ax.xaxis.set_major_locator(myLocator)\n",
    "fig.autofmt_xdate()\n",
    "\n",
    "# fix label to only show first and last date\n",
    "labels = ['' for item in ax.get_xticklabels()]\n",
    "labels[1] = temp_series2.index[0]\n",
    "\n",
    "# labels[int(len(labels)/2)] = temp_series2.index[int(len(labels)/2)]\n",
    "labels[-2] = temp_series2.index[-1]\n",
    "ax.set_xticklabels(labels)\n",
    "\n",
    "plt.show()"
   ]
  },
  {
   "cell_type": "code",
   "execution_count": null,
   "metadata": {},
   "outputs": [],
   "source": []
  }
 ],
 "metadata": {
  "kernelspec": {
   "display_name": "Python 3",
   "language": "python",
   "name": "python3"
  },
  "language_info": {
   "codemirror_mode": {
    "name": "ipython",
    "version": 3
   },
   "file_extension": ".py",
   "mimetype": "text/x-python",
   "name": "python",
   "nbconvert_exporter": "python",
   "pygments_lexer": "ipython3",
   "version": "3.7.7"
  }
 },
 "nbformat": 4,
 "nbformat_minor": 4
}
